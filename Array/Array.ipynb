{
 "cells": [
  {
   "cell_type": "code",
   "execution_count": 94,
   "id": "initial_id",
   "metadata": {
    "collapsed": true,
    "ExecuteTime": {
     "end_time": "2024-01-25T01:17:46.915617Z",
     "start_time": "2024-01-25T01:17:46.912487Z"
    }
   },
   "outputs": [
    {
     "name": "stdout",
     "output_type": "stream",
     "text": [
      "4\n"
     ]
    }
   ],
   "source": [
    "arr = [1,3,4,6,10]\n",
    "print(arr[2])\n",
    "\n"
   ]
  },
  {
   "cell_type": "code",
   "outputs": [
    {
     "name": "stdout",
     "output_type": "stream",
     "text": [
      "5\n"
     ]
    }
   ],
   "source": [
    "print(len(arr))"
   ],
   "metadata": {
    "collapsed": false,
    "ExecuteTime": {
     "end_time": "2024-01-25T01:17:46.922491Z",
     "start_time": "2024-01-25T01:17:46.917589Z"
    }
   },
   "id": "3a6fb3ea2372a5e5",
   "execution_count": 95
  },
  {
   "cell_type": "code",
   "outputs": [
    {
     "name": "stdout",
     "output_type": "stream",
     "text": [
      "2\n"
     ]
    }
   ],
   "source": [
    "for index,value in enumerate(arr):\n",
    "    if value==4:\n",
    "        print(index)\n",
    "    "
   ],
   "metadata": {
    "collapsed": false,
    "ExecuteTime": {
     "end_time": "2024-01-25T01:17:46.923222Z",
     "start_time": "2024-01-25T01:17:46.921035Z"
    }
   },
   "id": "f3deeb2f8617eab5",
   "execution_count": 96
  },
  {
   "cell_type": "code",
   "outputs": [
    {
     "name": "stdout",
     "output_type": "stream",
     "text": [
      "150\n"
     ]
    }
   ],
   "source": [
    "expense =[2200,2350,2600,2130,2190]\n",
    "result = expense[1] - expense[0]\n",
    "print(result)"
   ],
   "metadata": {
    "collapsed": false,
    "ExecuteTime": {
     "end_time": "2024-01-25T01:17:46.927662Z",
     "start_time": "2024-01-25T01:17:46.923736Z"
    }
   },
   "id": "7bf868b1e1138a5e",
   "execution_count": 97
  },
  {
   "cell_type": "code",
   "outputs": [
    {
     "name": "stdout",
     "output_type": "stream",
     "text": [
      "7150\n"
     ]
    }
   ],
   "source": [
    "result = sum(expense[0:3])\n",
    "print(result)"
   ],
   "metadata": {
    "collapsed": false,
    "ExecuteTime": {
     "end_time": "2024-01-25T01:17:46.944770Z",
     "start_time": "2024-01-25T01:17:46.927781Z"
    }
   },
   "id": "2064c595c1e77f4f",
   "execution_count": 98
  },
  {
   "cell_type": "code",
   "outputs": [
    {
     "name": "stdout",
     "output_type": "stream",
     "text": [
      "not found\n"
     ]
    }
   ],
   "source": [
    "for index,value in enumerate(expense):\n",
    "    if value==2000:\n",
    "        print(index)\n",
    "        break\n",
    "print('not found')"
   ],
   "metadata": {
    "collapsed": false,
    "ExecuteTime": {
     "end_time": "2024-01-25T01:17:46.945591Z",
     "start_time": "2024-01-25T01:17:46.930406Z"
    }
   },
   "id": "1559520045d1615b",
   "execution_count": 99
  },
  {
   "cell_type": "code",
   "outputs": [],
   "source": [
    "expense.append(1980)"
   ],
   "metadata": {
    "collapsed": false,
    "ExecuteTime": {
     "end_time": "2024-01-25T01:17:46.945826Z",
     "start_time": "2024-01-25T01:17:46.932937Z"
    }
   },
   "id": "6455718434760ab0",
   "execution_count": 100
  },
  {
   "cell_type": "code",
   "outputs": [
    {
     "name": "stdout",
     "output_type": "stream",
     "text": [
      "[2200, 2350, 2600, 2130, 2190, 1980]\n"
     ]
    }
   ],
   "source": [
    "print(expense)"
   ],
   "metadata": {
    "collapsed": false,
    "ExecuteTime": {
     "end_time": "2024-01-25T01:17:46.946079Z",
     "start_time": "2024-01-25T01:17:46.935311Z"
    }
   },
   "id": "517d688e1ab07034",
   "execution_count": 101
  },
  {
   "cell_type": "code",
   "outputs": [],
   "source": [
    "expense[3] = expense[3] - 200"
   ],
   "metadata": {
    "collapsed": false,
    "ExecuteTime": {
     "end_time": "2024-01-25T01:17:46.946290Z",
     "start_time": "2024-01-25T01:17:46.937499Z"
    }
   },
   "id": "48dd35420ef0fa39",
   "execution_count": 102
  },
  {
   "cell_type": "code",
   "outputs": [
    {
     "data": {
      "text/plain": "[2200, 2350, 2600, 1930, 2190, 1980]"
     },
     "execution_count": 103,
     "metadata": {},
     "output_type": "execute_result"
    }
   ],
   "source": [
    "expense"
   ],
   "metadata": {
    "collapsed": false,
    "ExecuteTime": {
     "end_time": "2024-01-25T01:17:46.946568Z",
     "start_time": "2024-01-25T01:17:46.939765Z"
    }
   },
   "id": "d7a45fdc7493c5d9",
   "execution_count": 103
  },
  {
   "cell_type": "code",
   "outputs": [],
   "source": [
    "heros = ['spider man','thor','hulk','iron man','captain america']"
   ],
   "metadata": {
    "collapsed": false,
    "ExecuteTime": {
     "end_time": "2024-01-25T01:17:46.957997Z",
     "start_time": "2024-01-25T01:17:46.942657Z"
    }
   },
   "id": "e768b8d43bdeec50",
   "execution_count": 104
  },
  {
   "cell_type": "code",
   "outputs": [
    {
     "data": {
      "text/plain": "5"
     },
     "execution_count": 105,
     "metadata": {},
     "output_type": "execute_result"
    }
   ],
   "source": [
    "len(heros)"
   ],
   "metadata": {
    "collapsed": false,
    "ExecuteTime": {
     "end_time": "2024-01-25T01:17:46.981888Z",
     "start_time": "2024-01-25T01:17:46.953417Z"
    }
   },
   "id": "111ff236ac719d9c",
   "execution_count": 105
  },
  {
   "cell_type": "code",
   "outputs": [
    {
     "data": {
      "text/plain": "['spider man', 'thor', 'hulk', 'iron man', 'captain america', 'black panther']"
     },
     "execution_count": 106,
     "metadata": {},
     "output_type": "execute_result"
    }
   ],
   "source": [
    "heros.append('black panther')\n",
    "heros"
   ],
   "metadata": {
    "collapsed": false,
    "ExecuteTime": {
     "end_time": "2024-01-25T01:17:46.982231Z",
     "start_time": "2024-01-25T01:17:46.954348Z"
    }
   },
   "id": "143adefaeb9a362c",
   "execution_count": 106
  },
  {
   "cell_type": "code",
   "outputs": [
    {
     "data": {
      "text/plain": "['spider man', 'thor', 'hulk', 'iron man', 'captain america']"
     },
     "execution_count": 107,
     "metadata": {},
     "output_type": "execute_result"
    }
   ],
   "source": [
    "heros.remove('black panther')\n",
    "heros"
   ],
   "metadata": {
    "collapsed": false,
    "ExecuteTime": {
     "end_time": "2024-01-25T01:17:46.983230Z",
     "start_time": "2024-01-25T01:17:46.958098Z"
    }
   },
   "id": "9d17a25a229f7b50",
   "execution_count": 107
  },
  {
   "cell_type": "code",
   "outputs": [],
   "source": [],
   "metadata": {
    "collapsed": false,
    "ExecuteTime": {
     "end_time": "2024-01-25T01:17:46.983465Z",
     "start_time": "2024-01-25T01:17:46.960633Z"
    }
   },
   "id": "17b7efe8b3682304",
   "execution_count": 107
  },
  {
   "cell_type": "code",
   "outputs": [
    {
     "data": {
      "text/plain": "['spider man', 'thor', 'hulk', 'black panther', 'iron man', 'captain america']"
     },
     "execution_count": 108,
     "metadata": {},
     "output_type": "execute_result"
    }
   ],
   "source": [
    "heros.insert(3,'black panther')\n",
    "heros"
   ],
   "metadata": {
    "collapsed": false,
    "ExecuteTime": {
     "end_time": "2024-01-25T01:17:46.983848Z",
     "start_time": "2024-01-25T01:17:46.963972Z"
    }
   },
   "id": "c5b241d6594c1071",
   "execution_count": 108
  },
  {
   "cell_type": "code",
   "outputs": [],
   "source": [
    "heros[1:3] = ['doctor strange']"
   ],
   "metadata": {
    "collapsed": false,
    "ExecuteTime": {
     "end_time": "2024-01-25T01:17:46.984118Z",
     "start_time": "2024-01-25T01:17:46.966417Z"
    }
   },
   "id": "4ee091b021722a03",
   "execution_count": 109
  },
  {
   "cell_type": "code",
   "outputs": [
    {
     "data": {
      "text/plain": "['spider man',\n 'doctor strange',\n 'black panther',\n 'iron man',\n 'captain america']"
     },
     "execution_count": 110,
     "metadata": {},
     "output_type": "execute_result"
    }
   ],
   "source": [
    "heros\n"
   ],
   "metadata": {
    "collapsed": false,
    "ExecuteTime": {
     "end_time": "2024-01-25T01:17:47.006753Z",
     "start_time": "2024-01-25T01:17:46.985721Z"
    }
   },
   "id": "3db15b7047a893ea",
   "execution_count": 110
  },
  {
   "cell_type": "code",
   "outputs": [
    {
     "data": {
      "text/plain": "['black panther',\n 'captain america',\n 'doctor strange',\n 'iron man',\n 'spider man']"
     },
     "execution_count": 111,
     "metadata": {},
     "output_type": "execute_result"
    }
   ],
   "source": [
    "heros.sort()\n",
    "heros"
   ],
   "metadata": {
    "collapsed": false,
    "ExecuteTime": {
     "end_time": "2024-01-25T01:17:47.018055Z",
     "start_time": "2024-01-25T01:17:47.008345Z"
    }
   },
   "id": "983208ad29749a20",
   "execution_count": 111
  },
  {
   "cell_type": "code",
   "outputs": [
    {
     "name": "stdout",
     "output_type": "stream",
     "text": [
      "1\n",
      "3\n",
      "5\n",
      "7\n",
      "9\n",
      "11\n"
     ]
    }
   ],
   "source": [
    "a = int(input())\n",
    "for i in range(1,a):\n",
    "    if i%2 == 1:\n",
    "        print(i)\n"
   ],
   "metadata": {
    "collapsed": false,
    "ExecuteTime": {
     "end_time": "2024-01-25T01:32:39.606014Z",
     "start_time": "2024-01-25T01:32:37.422144Z"
    }
   },
   "id": "c10d8ddec6c3d72c",
   "execution_count": 117
  },
  {
   "cell_type": "code",
   "outputs": [],
   "source": [],
   "metadata": {
    "collapsed": false
   },
   "id": "26c3be609fdf294"
  }
 ],
 "metadata": {
  "kernelspec": {
   "display_name": "Python 3",
   "language": "python",
   "name": "python3"
  },
  "language_info": {
   "codemirror_mode": {
    "name": "ipython",
    "version": 2
   },
   "file_extension": ".py",
   "mimetype": "text/x-python",
   "name": "python",
   "nbconvert_exporter": "python",
   "pygments_lexer": "ipython2",
   "version": "2.7.6"
  }
 },
 "nbformat": 4,
 "nbformat_minor": 5
}
